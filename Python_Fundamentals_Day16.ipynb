{
 "cells": [
  {
   "cell_type": "code",
   "execution_count": null,
   "metadata": {},
   "outputs": [],
   "source": [
    "INtroduction to Constructor"
   ]
  },
  {
   "cell_type": "code",
   "execution_count": 7,
   "metadata": {},
   "outputs": [],
   "source": [
    "class Dog:\n",
    "\n",
    "    def __init__ (self,name,age):#Constructor\n",
    "        self.age=age\n",
    "        self.name=name\n",
    "        print(\"It Got Executed\")\n",
    "\n",
    "    \n",
    "    def sit(self):\n",
    "        print(f\"{self.name} is now sitting\")\n",
    "    \n",
    "    def roll_over(self):\n",
    "        print(f\"{self.name}\")"
   ]
  },
  {
   "cell_type": "code",
   "execution_count": 8,
   "metadata": {},
   "outputs": [
    {
     "name": "stdout",
     "output_type": "stream",
     "text": [
      "It Got Executed\n"
     ]
    }
   ],
   "source": [
    "xobj=Dog('Bruno',6)"
   ]
  },
  {
   "cell_type": "code",
   "execution_count": 12,
   "metadata": {},
   "outputs": [
    {
     "name": "stdout",
     "output_type": "stream",
     "text": [
      "Bruno is now sitting\n"
     ]
    }
   ],
   "source": [
    "xobj.sit()"
   ]
  },
  {
   "cell_type": "code",
   "execution_count": 13,
   "metadata": {},
   "outputs": [
    {
     "name": "stdout",
     "output_type": "stream",
     "text": [
      "Bruno\n"
     ]
    }
   ],
   "source": [
    "xobj.roll_over()"
   ]
  },
  {
   "cell_type": "code",
   "execution_count": 14,
   "metadata": {},
   "outputs": [],
   "source": [
    "class shopping:\n",
    "    def dress_model(self,dress):\n",
    "        self.dress = print(f\"I would like to by a beautiful\" ,dress)\n",
    "        \n",
    "    def dress_material(self,material):\n",
    "        self.material = print(f\"{self.dress} should be made of\" ,material)\n",
    "        \n",
    "    def dress_color(self):\n",
    "        print(f\"Preferably in pestal colors\")"
   ]
  },
  {
   "cell_type": "code",
   "execution_count": 18,
   "metadata": {},
   "outputs": [
    {
     "name": "stdout",
     "output_type": "stream",
     "text": [
      "I would like to by a beautiful shrit\n"
     ]
    }
   ],
   "source": [
    "xobj=shopping()\n",
    "xobj.dress_model(\"shrit\")"
   ]
  },
  {
   "cell_type": "code",
   "execution_count": 22,
   "metadata": {},
   "outputs": [
    {
     "name": "stdout",
     "output_type": "stream",
     "text": [
      "None should be made of cotton\n"
     ]
    }
   ],
   "source": [
    "xobj.dress_material(\"cotton\")"
   ]
  },
  {
   "cell_type": "code",
   "execution_count": 24,
   "metadata": {},
   "outputs": [
    {
     "name": "stdout",
     "output_type": "stream",
     "text": [
      "Preferably in pestal colors\n"
     ]
    }
   ],
   "source": [
    "xobj.dress_color()"
   ]
  },
  {
   "cell_type": "code",
   "execution_count": null,
   "metadata": {},
   "outputs": [],
   "source": []
  }
 ],
 "metadata": {
  "kernelspec": {
   "display_name": "Python 3",
   "language": "python",
   "name": "python3"
  },
  "language_info": {
   "codemirror_mode": {
    "name": "ipython",
    "version": 3
   },
   "file_extension": ".py",
   "mimetype": "text/x-python",
   "name": "python",
   "nbconvert_exporter": "python",
   "pygments_lexer": "ipython3",
   "version": "3.7.6"
  }
 },
 "nbformat": 4,
 "nbformat_minor": 4
}

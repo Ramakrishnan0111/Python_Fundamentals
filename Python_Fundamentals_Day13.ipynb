{
 "cells": [
  {
   "cell_type": "code",
   "execution_count": null,
   "metadata": {},
   "outputs": [],
   "source": [
    "#Continuation to Funtion"
   ]
  },
  {
   "cell_type": "code",
   "execution_count": 1,
   "metadata": {},
   "outputs": [
    {
     "name": "stdout",
     "output_type": "stream",
     "text": [
      "Hello RAM how are you ?\n"
     ]
    }
   ],
   "source": [
    "def grt_user(username):\n",
    "    \n",
    "    print(f\"Hello {username.upper()} how are you ?\")\n",
    "    \n",
    "grt_user(\"Ram\")"
   ]
  },
  {
   "cell_type": "code",
   "execution_count": null,
   "metadata": {},
   "outputs": [],
   "source": [
    "#Types Of Aruguents\n",
    "============================\n",
    "1.Positional Arguments\n",
    "2.KeyWord Arguments\n",
    "3.Default Arguments"
   ]
  },
  {
   "cell_type": "code",
   "execution_count": 6,
   "metadata": {},
   "outputs": [],
   "source": [
    "#Positiona Arguments\n",
    "\n",
    "def d_pet(animal_type,animal_name):\n",
    "    \n",
    "    print(f\" I have {animal_type}\")\n",
    "    \n",
    "    print(f\" \\n My {animal_type} name is {animal_name}\")\n",
    "    \n",
    "    d_pet('cat','Juli')\n",
    "\n"
   ]
  },
  {
   "cell_type": "code",
   "execution_count": 7,
   "metadata": {},
   "outputs": [],
   "source": [
    "def d_pet(animal_type,animal_name):\n",
    "    \n",
    "    print(f\" I have {animal_type}\")"
   ]
  },
  {
   "cell_type": "code",
   "execution_count": 8,
   "metadata": {},
   "outputs": [
    {
     "name": "stdout",
     "output_type": "stream",
     "text": [
      " I have cat\n"
     ]
    }
   ],
   "source": [
    "d_pet('cat','juli')"
   ]
  },
  {
   "cell_type": "code",
   "execution_count": 11,
   "metadata": {},
   "outputs": [],
   "source": [
    "def d_pet(animal_type,animal_name):\n",
    "    \n",
    "    print(f\" I have {animal_type}\")\n",
    "    \n",
    "    print(f\" \\n My {animal_type.title()} name is {animal_name.title()}\")"
   ]
  },
  {
   "cell_type": "code",
   "execution_count": 12,
   "metadata": {},
   "outputs": [
    {
     "name": "stdout",
     "output_type": "stream",
     "text": [
      " I have cat\n",
      " \n",
      " My Cat name is Juli\n"
     ]
    }
   ],
   "source": [
    "d_pet('cat','juli')"
   ]
  },
  {
   "cell_type": "code",
   "execution_count": null,
   "metadata": {},
   "outputs": [],
   "source": [
    "#Keyworkd Arguments"
   ]
  },
  {
   "cell_type": "code",
   "execution_count": 13,
   "metadata": {},
   "outputs": [
    {
     "name": "stdout",
     "output_type": "stream",
     "text": [
      " I have lion\n",
      " \n",
      " My Lion name is Jony\n"
     ]
    }
   ],
   "source": [
    "d_pet(animal_type='lion',animal_name='jony')\n"
   ]
  },
  {
   "cell_type": "code",
   "execution_count": null,
   "metadata": {},
   "outputs": [],
   "source": [
    "#Default ARGUMENGTS"
   ]
  },
  {
   "cell_type": "code",
   "execution_count": 26,
   "metadata": {},
   "outputs": [
    {
     "name": "stdout",
     "output_type": "stream",
     "text": [
      " I have Lion\n",
      " \n",
      " My Lion name is Johy\n"
     ]
    }
   ],
   "source": [
    "def d_pet1(animal_name,animal_type='Lion'):\n",
    "\n",
    "    print(f\" I have {animal_type}\")\n",
    "    \n",
    "    print(f\" \\n My {animal_type.title()} name is {animal_name.title()}\")\n",
    "    \n",
    "    \n",
    "d_pet1('johy')\n",
    "    "
   ]
  },
  {
   "cell_type": "code",
   "execution_count": 27,
   "metadata": {},
   "outputs": [
    {
     "name": "stdout",
     "output_type": "stream",
     "text": [
      " I have tiger\n",
      " \n",
      " My Tiger name is Jony\n"
     ]
    }
   ],
   "source": [
    "d_pet1('jony','tiger')"
   ]
  },
  {
   "cell_type": "code",
   "execution_count": null,
   "metadata": {},
   "outputs": [],
   "source": []
  }
 ],
 "metadata": {
  "kernelspec": {
   "display_name": "Python 3",
   "language": "python",
   "name": "python3"
  },
  "language_info": {
   "codemirror_mode": {
    "name": "ipython",
    "version": 3
   },
   "file_extension": ".py",
   "mimetype": "text/x-python",
   "name": "python",
   "nbconvert_exporter": "python",
   "pygments_lexer": "ipython3",
   "version": "3.7.6"
  }
 },
 "nbformat": 4,
 "nbformat_minor": 4
}

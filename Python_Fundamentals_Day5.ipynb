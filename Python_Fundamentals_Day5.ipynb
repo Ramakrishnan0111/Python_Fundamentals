{
 "cells": [
  {
   "cell_type": "code",
   "execution_count": 4,
   "metadata": {},
   "outputs": [
    {
     "name": "stdout",
     "output_type": "stream",
     "text": [
      "['ram', 'ravi', 'somu', 'suresh', 'rahul']\n"
     ]
    }
   ],
   "source": [
    "my_students=['ram','ravi','somu','suresh','rahul']\n",
    "print(my_students)"
   ]
  },
  {
   "cell_type": "code",
   "execution_count": null,
   "metadata": {},
   "outputs": [],
   "source": [
    "#remove particular name in the list"
   ]
  },
  {
   "cell_type": "code",
   "execution_count": 5,
   "metadata": {},
   "outputs": [
    {
     "name": "stdout",
     "output_type": "stream",
     "text": [
      "['ravi', 'somu', 'suresh', 'rahul']\n"
     ]
    }
   ],
   "source": [
    "my_students.remove('ram')\n",
    "print(my_students)"
   ]
  },
  {
   "cell_type": "code",
   "execution_count": null,
   "metadata": {},
   "outputs": [],
   "source": [
    "#oraganizing the list"
   ]
  },
  {
   "cell_type": "code",
   "execution_count": 8,
   "metadata": {},
   "outputs": [
    {
     "name": "stdout",
     "output_type": "stream",
     "text": [
      "{'bmw', 'benz', 'toyoto', 'maruthi', 'audi'}\n"
     ]
    }
   ],
   "source": [
    "cars={'maruthi','benz','bmw','toyoto','audi'}\n",
    "print(cars)"
   ]
  },
  {
   "cell_type": "code",
   "execution_count": 16,
   "metadata": {},
   "outputs": [
    {
     "name": "stdout",
     "output_type": "stream",
     "text": [
      "['rahul', 'ravi', 'somu', 'suresh']\n",
      "['rahul', 'ravi', 'somu', 'suresh']\n"
     ]
    }
   ],
   "source": [
    "#sorting a-z\n",
    "print(sorted(my_students))\n",
    "my_students.sort()\n",
    "print(my_students)"
   ]
  },
  {
   "cell_type": "code",
   "execution_count": 21,
   "metadata": {},
   "outputs": [
    {
     "name": "stdout",
     "output_type": "stream",
     "text": [
      "{'bmw', 'benz', 'toyoto', 'maruthi', 'audi'}\n",
      "['audi', 'benz', 'bmw', 'maruthi', 'toyoto']\n"
     ]
    }
   ],
   "source": [
    "print(cars)\n",
    "print(sorted(cars))\n"
   ]
  },
  {
   "cell_type": "code",
   "execution_count": 28,
   "metadata": {},
   "outputs": [
    {
     "name": "stdout",
     "output_type": "stream",
     "text": [
      "['maruthi', 'sujuki', 'honda', 'nissan', 'hyundai']\n"
     ]
    }
   ],
   "source": [
    "cars1=[\"maruthi\",\"sujuki\",\"honda\",\"nissan\",\"hyundai\"]\n",
    "print(cars1)"
   ]
  },
  {
   "cell_type": "code",
   "execution_count": 29,
   "metadata": {},
   "outputs": [],
   "source": [
    "#sorting a list permanently\n",
    "cars1.sort()"
   ]
  },
  {
   "cell_type": "code",
   "execution_count": 30,
   "metadata": {},
   "outputs": [
    {
     "name": "stdout",
     "output_type": "stream",
     "text": [
      "['honda', 'hyundai', 'maruthi', 'nissan', 'sujuki']\n"
     ]
    }
   ],
   "source": [
    "print(cars1)"
   ]
  },
  {
   "cell_type": "code",
   "execution_count": 32,
   "metadata": {},
   "outputs": [
    {
     "name": "stdout",
     "output_type": "stream",
     "text": [
      "['sujuki', 'nissan', 'maruthi', 'hyundai', 'honda']\n"
     ]
    }
   ],
   "source": [
    "cars1.reverse()\n",
    "print(cars1)"
   ]
  },
  {
   "cell_type": "code",
   "execution_count": null,
   "metadata": {},
   "outputs": [],
   "source": [
    "#finding the length "
   ]
  },
  {
   "cell_type": "code",
   "execution_count": 33,
   "metadata": {},
   "outputs": [
    {
     "data": {
      "text/plain": [
       "5"
      ]
     },
     "execution_count": 33,
     "metadata": {},
     "output_type": "execute_result"
    }
   ],
   "source": [
    "len(cars)"
   ]
  },
  {
   "cell_type": "code",
   "execution_count": 34,
   "metadata": {},
   "outputs": [
    {
     "data": {
      "text/plain": [
       "5"
      ]
     },
     "execution_count": 34,
     "metadata": {},
     "output_type": "execute_result"
    }
   ],
   "source": [
    "len(cars1)"
   ]
  },
  {
   "cell_type": "code",
   "execution_count": 35,
   "metadata": {},
   "outputs": [
    {
     "data": {
      "text/plain": [
       "4"
      ]
     },
     "execution_count": 35,
     "metadata": {},
     "output_type": "execute_result"
    }
   ],
   "source": [
    "len(my_students)"
   ]
  },
  {
   "cell_type": "code",
   "execution_count": null,
   "metadata": {},
   "outputs": [],
   "source": []
  }
 ],
 "metadata": {
  "kernelspec": {
   "display_name": "Python 3",
   "language": "python",
   "name": "python3"
  },
  "language_info": {
   "codemirror_mode": {
    "name": "ipython",
    "version": 3
   },
   "file_extension": ".py",
   "mimetype": "text/x-python",
   "name": "python",
   "nbconvert_exporter": "python",
   "pygments_lexer": "ipython3",
   "version": "3.7.6"
  }
 },
 "nbformat": 4,
 "nbformat_minor": 4
}
